{
  "nbformat": 4,
  "nbformat_minor": 0,
  "metadata": {
    "colab": {
      "name": "predicting_bike_sharing_data_with_tune_for_hyperparameter_tuning.ipynb",
      "version": "0.3.2",
      "provenance": [],
      "collapsed_sections": [],
      "include_colab_link": true
    },
    "kernelspec": {
      "name": "python3",
      "display_name": "Python 3"
    },
    "accelerator": "GPU"
  },
  "cells": [
    {
      "cell_type": "markdown",
      "metadata": {
        "id": "view-in-github",
        "colab_type": "text"
      },
      "source": [
        "<a href=\"https://colab.research.google.com/github/TobiasSunderdiek/hyperparameter-tuning-with-tune/blob/master/predicting_bike_sharing_data_with_tune_for_hyperparameter_tuning.ipynb\" target=\"_parent\"><img src=\"https://colab.research.google.com/assets/colab-badge.svg\" alt=\"Open In Colab\"/></a>"
      ]
    },
    {
      "cell_type": "markdown",
      "metadata": {
        "id": "9z0eKFKr8neG",
        "colab_type": "text"
      },
      "source": [
        "# Predicting bike sharing data with tune for hyperparameter tuning\n",
        "\n",
        "\n",
        "This notebook is based on the udacity deep learning nanodegree project for predicting bike sharing data, which can be found here:\n",
        "\n",
        "https://github.com/udacity/deep-learning-v2-pytorch/blob/master/project-bikesharing/Predicting_bike_sharing_data.ipynb\n",
        "\n",
        "I use the udacity implementation as a starting point for a self-learning project in which I try to build a variation where the model is a fcn and the hyperparameter tuning is done with tune[1].\n",
        "\n",
        "[1] https://ray.readthedocs.io/en/latest/tune.html"
      ]
    },
    {
      "cell_type": "markdown",
      "metadata": {
        "id": "85c1-HDvsrmn",
        "colab_type": "text"
      },
      "source": [
        "## Prepare for using tune\n",
        "For use in colab, pyarrow has to be uninstalled. After that, colab runtime has be be restarted.\n",
        "\n",
        "Additionally, clean-up log dir for tune logs."
      ]
    },
    {
      "cell_type": "code",
      "metadata": {
        "id": "Lci88lLVTmd5",
        "colab_type": "code",
        "outputId": "d2e25fa0-dfb8-4ba1-d8c1-fe4962a633dc",
        "colab": {
          "base_uri": "https://localhost:8080/",
          "height": 340
        }
      },
      "source": [
        "# preparing for using tune\n",
        "!pip install ray\n",
        "!pip uninstall -y pyarrow\n",
        "# cleanup tune log dir if exists\n",
        "!rm -rf tune_logs"
      ],
      "execution_count": 1,
      "outputs": [
        {
          "output_type": "stream",
          "text": [
            "Requirement already satisfied: ray in /usr/local/lib/python3.6/dist-packages (0.7.4)\n",
            "Requirement already satisfied: filelock in /usr/local/lib/python3.6/dist-packages (from ray) (3.0.12)\n",
            "Requirement already satisfied: numpy>=1.14 in /usr/local/lib/python3.6/dist-packages (from ray) (1.16.5)\n",
            "Requirement already satisfied: pyyaml in /usr/local/lib/python3.6/dist-packages (from ray) (3.13)\n",
            "Requirement already satisfied: colorama in /usr/local/lib/python3.6/dist-packages (from ray) (0.4.1)\n",
            "Requirement already satisfied: six>=1.0.0 in /usr/local/lib/python3.6/dist-packages (from ray) (1.12.0)\n",
            "Requirement already satisfied: click in /usr/local/lib/python3.6/dist-packages (from ray) (7.0)\n",
            "Requirement already satisfied: jsonschema in /usr/local/lib/python3.6/dist-packages (from ray) (2.6.0)\n",
            "Requirement already satisfied: protobuf>=3.8.0 in /usr/local/lib/python3.6/dist-packages (from ray) (3.9.1)\n",
            "Requirement already satisfied: redis>=3.3.2 in /usr/local/lib/python3.6/dist-packages (from ray) (3.3.8)\n",
            "Requirement already satisfied: pytest in /usr/local/lib/python3.6/dist-packages (from ray) (3.6.4)\n",
            "Requirement already satisfied: funcsigs in /usr/local/lib/python3.6/dist-packages (from ray) (1.0.2)\n",
            "Requirement already satisfied: setuptools in /usr/local/lib/python3.6/dist-packages (from protobuf>=3.8.0->ray) (41.2.0)\n",
            "Requirement already satisfied: attrs>=17.4.0 in /usr/local/lib/python3.6/dist-packages (from pytest->ray) (19.1.0)\n",
            "Requirement already satisfied: atomicwrites>=1.0 in /usr/local/lib/python3.6/dist-packages (from pytest->ray) (1.3.0)\n",
            "Requirement already satisfied: more-itertools>=4.0.0 in /usr/local/lib/python3.6/dist-packages (from pytest->ray) (7.2.0)\n",
            "Requirement already satisfied: py>=1.5.0 in /usr/local/lib/python3.6/dist-packages (from pytest->ray) (1.8.0)\n",
            "Requirement already satisfied: pluggy<0.8,>=0.5 in /usr/local/lib/python3.6/dist-packages (from pytest->ray) (0.7.1)\n",
            "\u001b[33mWARNING: Skipping pyarrow as it is not installed.\u001b[0m\n"
          ],
          "name": "stdout"
        }
      ]
    },
    {
      "cell_type": "markdown",
      "metadata": {
        "id": "jb5V5Sb09V4W",
        "colab_type": "text"
      },
      "source": [
        "## Loading dataset from github\n",
        "The original dataset is located here:\n",
        "\n",
        "https://raw.githubusercontent.com/udacity/deep-learning-v2-pytorch/master/project-bikesharing/Bike-Sharing-Dataset/hour.csv\n",
        "\n",
        "which originaly came from [1].\n",
        "\n",
        "[1] Fanaee-T, Hadi, and Gama, Joao, \"Event labeling combining ensemble detectors and background knowledge\", Progress in Artificial Intelligence (2013): pp. 1-15, Springer Berlin Heidelberg, doi:10.1007/s13748-013-0040-3."
      ]
    },
    {
      "cell_type": "code",
      "metadata": {
        "id": "cT4j5Qg2o9Yg",
        "colab_type": "code",
        "outputId": "6b0b1589-df53-44a0-a7bb-3503181be411",
        "colab": {
          "base_uri": "https://localhost:8080/",
          "height": 68
        }
      },
      "source": [
        "# Fetch a single file using the raw GitHub URL.\n",
        "!curl --remote-name \\\n",
        "     -H 'Accept: application/vnd.github.v3.raw' \\\n",
        "     --location https://raw.githubusercontent.com/udacity/deep-learning-v2-pytorch/master/project-bikesharing/Bike-Sharing-Dataset/hour.csv"
      ],
      "execution_count": 2,
      "outputs": [
        {
          "output_type": "stream",
          "text": [
            "  % Total    % Received % Xferd  Average Speed   Time    Time     Time  Current\n",
            "                                 Dload  Upload   Total   Spent    Left  Speed\n",
            "\r  0     0    0     0    0     0      0      0 --:--:-- --:--:-- --:--:--     0\r  0     0    0     0    0     0      0      0 --:--:-- --:--:-- --:--:--     0\r100 1129k  100 1129k    0     0  3586k      0 --:--:-- --:--:-- --:--:-- 3574k\n"
          ],
          "name": "stdout"
        }
      ]
    },
    {
      "cell_type": "code",
      "metadata": {
        "id": "PVMh2OG7rGpx",
        "colab_type": "code",
        "outputId": "8df423b8-f00c-4583-fdb3-fdbd08763960",
        "colab": {
          "base_uri": "https://localhost:8080/",
          "height": 204
        }
      },
      "source": [
        "import pandas as pd\n",
        "\n",
        "rides = pd.read_csv(\"/content/hour.csv\")\n",
        "rides_origin = rides\n",
        "rides.head()"
      ],
      "execution_count": 3,
      "outputs": [
        {
          "output_type": "execute_result",
          "data": {
            "text/html": [
              "<div>\n",
              "<style scoped>\n",
              "    .dataframe tbody tr th:only-of-type {\n",
              "        vertical-align: middle;\n",
              "    }\n",
              "\n",
              "    .dataframe tbody tr th {\n",
              "        vertical-align: top;\n",
              "    }\n",
              "\n",
              "    .dataframe thead th {\n",
              "        text-align: right;\n",
              "    }\n",
              "</style>\n",
              "<table border=\"1\" class=\"dataframe\">\n",
              "  <thead>\n",
              "    <tr style=\"text-align: right;\">\n",
              "      <th></th>\n",
              "      <th>instant</th>\n",
              "      <th>dteday</th>\n",
              "      <th>season</th>\n",
              "      <th>yr</th>\n",
              "      <th>mnth</th>\n",
              "      <th>hr</th>\n",
              "      <th>holiday</th>\n",
              "      <th>weekday</th>\n",
              "      <th>workingday</th>\n",
              "      <th>weathersit</th>\n",
              "      <th>temp</th>\n",
              "      <th>atemp</th>\n",
              "      <th>hum</th>\n",
              "      <th>windspeed</th>\n",
              "      <th>casual</th>\n",
              "      <th>registered</th>\n",
              "      <th>cnt</th>\n",
              "    </tr>\n",
              "  </thead>\n",
              "  <tbody>\n",
              "    <tr>\n",
              "      <th>0</th>\n",
              "      <td>1</td>\n",
              "      <td>2011-01-01</td>\n",
              "      <td>1</td>\n",
              "      <td>0</td>\n",
              "      <td>1</td>\n",
              "      <td>0</td>\n",
              "      <td>0</td>\n",
              "      <td>6</td>\n",
              "      <td>0</td>\n",
              "      <td>1</td>\n",
              "      <td>0.24</td>\n",
              "      <td>0.2879</td>\n",
              "      <td>0.81</td>\n",
              "      <td>0.0</td>\n",
              "      <td>3</td>\n",
              "      <td>13</td>\n",
              "      <td>16</td>\n",
              "    </tr>\n",
              "    <tr>\n",
              "      <th>1</th>\n",
              "      <td>2</td>\n",
              "      <td>2011-01-01</td>\n",
              "      <td>1</td>\n",
              "      <td>0</td>\n",
              "      <td>1</td>\n",
              "      <td>1</td>\n",
              "      <td>0</td>\n",
              "      <td>6</td>\n",
              "      <td>0</td>\n",
              "      <td>1</td>\n",
              "      <td>0.22</td>\n",
              "      <td>0.2727</td>\n",
              "      <td>0.80</td>\n",
              "      <td>0.0</td>\n",
              "      <td>8</td>\n",
              "      <td>32</td>\n",
              "      <td>40</td>\n",
              "    </tr>\n",
              "    <tr>\n",
              "      <th>2</th>\n",
              "      <td>3</td>\n",
              "      <td>2011-01-01</td>\n",
              "      <td>1</td>\n",
              "      <td>0</td>\n",
              "      <td>1</td>\n",
              "      <td>2</td>\n",
              "      <td>0</td>\n",
              "      <td>6</td>\n",
              "      <td>0</td>\n",
              "      <td>1</td>\n",
              "      <td>0.22</td>\n",
              "      <td>0.2727</td>\n",
              "      <td>0.80</td>\n",
              "      <td>0.0</td>\n",
              "      <td>5</td>\n",
              "      <td>27</td>\n",
              "      <td>32</td>\n",
              "    </tr>\n",
              "    <tr>\n",
              "      <th>3</th>\n",
              "      <td>4</td>\n",
              "      <td>2011-01-01</td>\n",
              "      <td>1</td>\n",
              "      <td>0</td>\n",
              "      <td>1</td>\n",
              "      <td>3</td>\n",
              "      <td>0</td>\n",
              "      <td>6</td>\n",
              "      <td>0</td>\n",
              "      <td>1</td>\n",
              "      <td>0.24</td>\n",
              "      <td>0.2879</td>\n",
              "      <td>0.75</td>\n",
              "      <td>0.0</td>\n",
              "      <td>3</td>\n",
              "      <td>10</td>\n",
              "      <td>13</td>\n",
              "    </tr>\n",
              "    <tr>\n",
              "      <th>4</th>\n",
              "      <td>5</td>\n",
              "      <td>2011-01-01</td>\n",
              "      <td>1</td>\n",
              "      <td>0</td>\n",
              "      <td>1</td>\n",
              "      <td>4</td>\n",
              "      <td>0</td>\n",
              "      <td>6</td>\n",
              "      <td>0</td>\n",
              "      <td>1</td>\n",
              "      <td>0.24</td>\n",
              "      <td>0.2879</td>\n",
              "      <td>0.75</td>\n",
              "      <td>0.0</td>\n",
              "      <td>0</td>\n",
              "      <td>1</td>\n",
              "      <td>1</td>\n",
              "    </tr>\n",
              "  </tbody>\n",
              "</table>\n",
              "</div>"
            ],
            "text/plain": [
              "   instant      dteday  season  yr  ...  windspeed  casual  registered  cnt\n",
              "0        1  2011-01-01       1   0  ...        0.0       3          13   16\n",
              "1        2  2011-01-01       1   0  ...        0.0       8          32   40\n",
              "2        3  2011-01-01       1   0  ...        0.0       5          27   32\n",
              "3        4  2011-01-01       1   0  ...        0.0       3          10   13\n",
              "4        5  2011-01-01       1   0  ...        0.0       0           1    1\n",
              "\n",
              "[5 rows x 17 columns]"
            ]
          },
          "metadata": {
            "tags": []
          },
          "execution_count": 3
        }
      ]
    },
    {
      "cell_type": "markdown",
      "metadata": {
        "id": "segnb5Shu-1S",
        "colab_type": "text"
      },
      "source": [
        "### Convert data\n",
        "- hot-encode categorical features *season*, *weathersit*, *mnth*, *hr*, *weekday* and drop origin of this features\n",
        "- drop fields *instant*, *dteday*, *atemp* and *workingday* as in the udacity project\n",
        "- additionally drop fields *casual* and *registered*, focus on overall output *cnt*\n",
        "- shift and scale continuous features *cnt*, *temp*, *hum*, *windspeed* so they have zero mean and standard deviation of 1"
      ]
    },
    {
      "cell_type": "code",
      "metadata": {
        "id": "7rqqljiastz8",
        "colab_type": "code",
        "outputId": "258a052f-189d-4ad4-fc22-eb842c499917",
        "colab": {
          "base_uri": "https://localhost:8080/",
          "height": 224
        }
      },
      "source": [
        "for feature in ['season', 'weathersit', 'mnth', 'hr', 'weekday']:\n",
        "  hot_encoded_features = pd.get_dummies(rides[feature], prefix=feature, drop_first=False)\n",
        "  rides = pd.concat([rides, hot_encoded_features], axis=1)\n",
        "  rides = rides.drop(feature, axis=1)\n",
        "rides = rides.drop(['instant', 'dteday', 'atemp', 'workingday', 'casual', 'registered'], axis=1)\n",
        "\n",
        "feature_scaling_store = {}\n",
        "\n",
        "for feature in ['cnt', 'temp', 'hum', 'windspeed']:\n",
        "  mean, std = rides[feature].mean(), rides[feature].std()\n",
        "  feature_scaling_store[feature] = [mean, std]\n",
        "  rides.loc[:, feature] = (rides[feature] - mean) / std\n",
        "\n",
        "rides.head()"
      ],
      "execution_count": 4,
      "outputs": [
        {
          "output_type": "execute_result",
          "data": {
            "text/html": [
              "<div>\n",
              "<style scoped>\n",
              "    .dataframe tbody tr th:only-of-type {\n",
              "        vertical-align: middle;\n",
              "    }\n",
              "\n",
              "    .dataframe tbody tr th {\n",
              "        vertical-align: top;\n",
              "    }\n",
              "\n",
              "    .dataframe thead th {\n",
              "        text-align: right;\n",
              "    }\n",
              "</style>\n",
              "<table border=\"1\" class=\"dataframe\">\n",
              "  <thead>\n",
              "    <tr style=\"text-align: right;\">\n",
              "      <th></th>\n",
              "      <th>yr</th>\n",
              "      <th>holiday</th>\n",
              "      <th>temp</th>\n",
              "      <th>hum</th>\n",
              "      <th>windspeed</th>\n",
              "      <th>cnt</th>\n",
              "      <th>season_1</th>\n",
              "      <th>season_2</th>\n",
              "      <th>season_3</th>\n",
              "      <th>season_4</th>\n",
              "      <th>weathersit_1</th>\n",
              "      <th>weathersit_2</th>\n",
              "      <th>weathersit_3</th>\n",
              "      <th>weathersit_4</th>\n",
              "      <th>mnth_1</th>\n",
              "      <th>mnth_2</th>\n",
              "      <th>mnth_3</th>\n",
              "      <th>mnth_4</th>\n",
              "      <th>mnth_5</th>\n",
              "      <th>mnth_6</th>\n",
              "      <th>mnth_7</th>\n",
              "      <th>mnth_8</th>\n",
              "      <th>mnth_9</th>\n",
              "      <th>mnth_10</th>\n",
              "      <th>mnth_11</th>\n",
              "      <th>mnth_12</th>\n",
              "      <th>hr_0</th>\n",
              "      <th>hr_1</th>\n",
              "      <th>hr_2</th>\n",
              "      <th>hr_3</th>\n",
              "      <th>hr_4</th>\n",
              "      <th>hr_5</th>\n",
              "      <th>hr_6</th>\n",
              "      <th>hr_7</th>\n",
              "      <th>hr_8</th>\n",
              "      <th>hr_9</th>\n",
              "      <th>hr_10</th>\n",
              "      <th>hr_11</th>\n",
              "      <th>hr_12</th>\n",
              "      <th>hr_13</th>\n",
              "      <th>hr_14</th>\n",
              "      <th>hr_15</th>\n",
              "      <th>hr_16</th>\n",
              "      <th>hr_17</th>\n",
              "      <th>hr_18</th>\n",
              "      <th>hr_19</th>\n",
              "      <th>hr_20</th>\n",
              "      <th>hr_21</th>\n",
              "      <th>hr_22</th>\n",
              "      <th>hr_23</th>\n",
              "      <th>weekday_0</th>\n",
              "      <th>weekday_1</th>\n",
              "      <th>weekday_2</th>\n",
              "      <th>weekday_3</th>\n",
              "      <th>weekday_4</th>\n",
              "      <th>weekday_5</th>\n",
              "      <th>weekday_6</th>\n",
              "    </tr>\n",
              "  </thead>\n",
              "  <tbody>\n",
              "    <tr>\n",
              "      <th>0</th>\n",
              "      <td>0</td>\n",
              "      <td>0</td>\n",
              "      <td>-1.334609</td>\n",
              "      <td>0.947345</td>\n",
              "      <td>-1.553844</td>\n",
              "      <td>-0.956312</td>\n",
              "      <td>1</td>\n",
              "      <td>0</td>\n",
              "      <td>0</td>\n",
              "      <td>0</td>\n",
              "      <td>1</td>\n",
              "      <td>0</td>\n",
              "      <td>0</td>\n",
              "      <td>0</td>\n",
              "      <td>1</td>\n",
              "      <td>0</td>\n",
              "      <td>0</td>\n",
              "      <td>0</td>\n",
              "      <td>0</td>\n",
              "      <td>0</td>\n",
              "      <td>0</td>\n",
              "      <td>0</td>\n",
              "      <td>0</td>\n",
              "      <td>0</td>\n",
              "      <td>0</td>\n",
              "      <td>0</td>\n",
              "      <td>1</td>\n",
              "      <td>0</td>\n",
              "      <td>0</td>\n",
              "      <td>0</td>\n",
              "      <td>0</td>\n",
              "      <td>0</td>\n",
              "      <td>0</td>\n",
              "      <td>0</td>\n",
              "      <td>0</td>\n",
              "      <td>0</td>\n",
              "      <td>0</td>\n",
              "      <td>0</td>\n",
              "      <td>0</td>\n",
              "      <td>0</td>\n",
              "      <td>0</td>\n",
              "      <td>0</td>\n",
              "      <td>0</td>\n",
              "      <td>0</td>\n",
              "      <td>0</td>\n",
              "      <td>0</td>\n",
              "      <td>0</td>\n",
              "      <td>0</td>\n",
              "      <td>0</td>\n",
              "      <td>0</td>\n",
              "      <td>0</td>\n",
              "      <td>0</td>\n",
              "      <td>0</td>\n",
              "      <td>0</td>\n",
              "      <td>0</td>\n",
              "      <td>0</td>\n",
              "      <td>1</td>\n",
              "    </tr>\n",
              "    <tr>\n",
              "      <th>1</th>\n",
              "      <td>0</td>\n",
              "      <td>0</td>\n",
              "      <td>-1.438475</td>\n",
              "      <td>0.895513</td>\n",
              "      <td>-1.553844</td>\n",
              "      <td>-0.823998</td>\n",
              "      <td>1</td>\n",
              "      <td>0</td>\n",
              "      <td>0</td>\n",
              "      <td>0</td>\n",
              "      <td>1</td>\n",
              "      <td>0</td>\n",
              "      <td>0</td>\n",
              "      <td>0</td>\n",
              "      <td>1</td>\n",
              "      <td>0</td>\n",
              "      <td>0</td>\n",
              "      <td>0</td>\n",
              "      <td>0</td>\n",
              "      <td>0</td>\n",
              "      <td>0</td>\n",
              "      <td>0</td>\n",
              "      <td>0</td>\n",
              "      <td>0</td>\n",
              "      <td>0</td>\n",
              "      <td>0</td>\n",
              "      <td>0</td>\n",
              "      <td>1</td>\n",
              "      <td>0</td>\n",
              "      <td>0</td>\n",
              "      <td>0</td>\n",
              "      <td>0</td>\n",
              "      <td>0</td>\n",
              "      <td>0</td>\n",
              "      <td>0</td>\n",
              "      <td>0</td>\n",
              "      <td>0</td>\n",
              "      <td>0</td>\n",
              "      <td>0</td>\n",
              "      <td>0</td>\n",
              "      <td>0</td>\n",
              "      <td>0</td>\n",
              "      <td>0</td>\n",
              "      <td>0</td>\n",
              "      <td>0</td>\n",
              "      <td>0</td>\n",
              "      <td>0</td>\n",
              "      <td>0</td>\n",
              "      <td>0</td>\n",
              "      <td>0</td>\n",
              "      <td>0</td>\n",
              "      <td>0</td>\n",
              "      <td>0</td>\n",
              "      <td>0</td>\n",
              "      <td>0</td>\n",
              "      <td>0</td>\n",
              "      <td>1</td>\n",
              "    </tr>\n",
              "    <tr>\n",
              "      <th>2</th>\n",
              "      <td>0</td>\n",
              "      <td>0</td>\n",
              "      <td>-1.438475</td>\n",
              "      <td>0.895513</td>\n",
              "      <td>-1.553844</td>\n",
              "      <td>-0.868103</td>\n",
              "      <td>1</td>\n",
              "      <td>0</td>\n",
              "      <td>0</td>\n",
              "      <td>0</td>\n",
              "      <td>1</td>\n",
              "      <td>0</td>\n",
              "      <td>0</td>\n",
              "      <td>0</td>\n",
              "      <td>1</td>\n",
              "      <td>0</td>\n",
              "      <td>0</td>\n",
              "      <td>0</td>\n",
              "      <td>0</td>\n",
              "      <td>0</td>\n",
              "      <td>0</td>\n",
              "      <td>0</td>\n",
              "      <td>0</td>\n",
              "      <td>0</td>\n",
              "      <td>0</td>\n",
              "      <td>0</td>\n",
              "      <td>0</td>\n",
              "      <td>0</td>\n",
              "      <td>1</td>\n",
              "      <td>0</td>\n",
              "      <td>0</td>\n",
              "      <td>0</td>\n",
              "      <td>0</td>\n",
              "      <td>0</td>\n",
              "      <td>0</td>\n",
              "      <td>0</td>\n",
              "      <td>0</td>\n",
              "      <td>0</td>\n",
              "      <td>0</td>\n",
              "      <td>0</td>\n",
              "      <td>0</td>\n",
              "      <td>0</td>\n",
              "      <td>0</td>\n",
              "      <td>0</td>\n",
              "      <td>0</td>\n",
              "      <td>0</td>\n",
              "      <td>0</td>\n",
              "      <td>0</td>\n",
              "      <td>0</td>\n",
              "      <td>0</td>\n",
              "      <td>0</td>\n",
              "      <td>0</td>\n",
              "      <td>0</td>\n",
              "      <td>0</td>\n",
              "      <td>0</td>\n",
              "      <td>0</td>\n",
              "      <td>1</td>\n",
              "    </tr>\n",
              "    <tr>\n",
              "      <th>3</th>\n",
              "      <td>0</td>\n",
              "      <td>0</td>\n",
              "      <td>-1.334609</td>\n",
              "      <td>0.636351</td>\n",
              "      <td>-1.553844</td>\n",
              "      <td>-0.972851</td>\n",
              "      <td>1</td>\n",
              "      <td>0</td>\n",
              "      <td>0</td>\n",
              "      <td>0</td>\n",
              "      <td>1</td>\n",
              "      <td>0</td>\n",
              "      <td>0</td>\n",
              "      <td>0</td>\n",
              "      <td>1</td>\n",
              "      <td>0</td>\n",
              "      <td>0</td>\n",
              "      <td>0</td>\n",
              "      <td>0</td>\n",
              "      <td>0</td>\n",
              "      <td>0</td>\n",
              "      <td>0</td>\n",
              "      <td>0</td>\n",
              "      <td>0</td>\n",
              "      <td>0</td>\n",
              "      <td>0</td>\n",
              "      <td>0</td>\n",
              "      <td>0</td>\n",
              "      <td>0</td>\n",
              "      <td>1</td>\n",
              "      <td>0</td>\n",
              "      <td>0</td>\n",
              "      <td>0</td>\n",
              "      <td>0</td>\n",
              "      <td>0</td>\n",
              "      <td>0</td>\n",
              "      <td>0</td>\n",
              "      <td>0</td>\n",
              "      <td>0</td>\n",
              "      <td>0</td>\n",
              "      <td>0</td>\n",
              "      <td>0</td>\n",
              "      <td>0</td>\n",
              "      <td>0</td>\n",
              "      <td>0</td>\n",
              "      <td>0</td>\n",
              "      <td>0</td>\n",
              "      <td>0</td>\n",
              "      <td>0</td>\n",
              "      <td>0</td>\n",
              "      <td>0</td>\n",
              "      <td>0</td>\n",
              "      <td>0</td>\n",
              "      <td>0</td>\n",
              "      <td>0</td>\n",
              "      <td>0</td>\n",
              "      <td>1</td>\n",
              "    </tr>\n",
              "    <tr>\n",
              "      <th>4</th>\n",
              "      <td>0</td>\n",
              "      <td>0</td>\n",
              "      <td>-1.334609</td>\n",
              "      <td>0.636351</td>\n",
              "      <td>-1.553844</td>\n",
              "      <td>-1.039008</td>\n",
              "      <td>1</td>\n",
              "      <td>0</td>\n",
              "      <td>0</td>\n",
              "      <td>0</td>\n",
              "      <td>1</td>\n",
              "      <td>0</td>\n",
              "      <td>0</td>\n",
              "      <td>0</td>\n",
              "      <td>1</td>\n",
              "      <td>0</td>\n",
              "      <td>0</td>\n",
              "      <td>0</td>\n",
              "      <td>0</td>\n",
              "      <td>0</td>\n",
              "      <td>0</td>\n",
              "      <td>0</td>\n",
              "      <td>0</td>\n",
              "      <td>0</td>\n",
              "      <td>0</td>\n",
              "      <td>0</td>\n",
              "      <td>0</td>\n",
              "      <td>0</td>\n",
              "      <td>0</td>\n",
              "      <td>0</td>\n",
              "      <td>1</td>\n",
              "      <td>0</td>\n",
              "      <td>0</td>\n",
              "      <td>0</td>\n",
              "      <td>0</td>\n",
              "      <td>0</td>\n",
              "      <td>0</td>\n",
              "      <td>0</td>\n",
              "      <td>0</td>\n",
              "      <td>0</td>\n",
              "      <td>0</td>\n",
              "      <td>0</td>\n",
              "      <td>0</td>\n",
              "      <td>0</td>\n",
              "      <td>0</td>\n",
              "      <td>0</td>\n",
              "      <td>0</td>\n",
              "      <td>0</td>\n",
              "      <td>0</td>\n",
              "      <td>0</td>\n",
              "      <td>0</td>\n",
              "      <td>0</td>\n",
              "      <td>0</td>\n",
              "      <td>0</td>\n",
              "      <td>0</td>\n",
              "      <td>0</td>\n",
              "      <td>1</td>\n",
              "    </tr>\n",
              "  </tbody>\n",
              "</table>\n",
              "</div>"
            ],
            "text/plain": [
              "   yr  holiday      temp       hum  ...  weekday_3  weekday_4  weekday_5  weekday_6\n",
              "0   0        0 -1.334609  0.947345  ...          0          0          0          1\n",
              "1   0        0 -1.438475  0.895513  ...          0          0          0          1\n",
              "2   0        0 -1.438475  0.895513  ...          0          0          0          1\n",
              "3   0        0 -1.334609  0.636351  ...          0          0          0          1\n",
              "4   0        0 -1.334609  0.636351  ...          0          0          0          1\n",
              "\n",
              "[5 rows x 57 columns]"
            ]
          },
          "metadata": {
            "tags": []
          },
          "execution_count": 4
        }
      ]
    },
    {
      "cell_type": "markdown",
      "metadata": {
        "id": "nFXhUrU9895a",
        "colab_type": "text"
      },
      "source": [
        "### Split into training,  testing and validation set\n",
        "The data consists of entries of how many bikes are rented at one specific hour of the day. The total number of entries in the hour.csv is 17.379, which means divided by 24 there are datapoints for approximatly 724 days.\n",
        "\n",
        "The last 21 days (3%) are used as testing data.\n",
        "\n",
        "Of the remaining days, 60 days (8.5%) are used as validation data.\n",
        "\n",
        "The training data consists of 643 days."
      ]
    },
    {
      "cell_type": "code",
      "metadata": {
        "id": "ckJMWC_GmfUM",
        "colab_type": "code",
        "colab": {}
      },
      "source": [
        "test_data = rides[-21*24:]\n",
        "rides = rides[:-21*24]\n",
        "\n",
        "validation_data = rides[-60*24:]\n",
        "rides = rides[:-60*24]\n",
        "\n",
        "train_data = rides\n",
        "\n",
        "target_fields = ['cnt']\n",
        "\n",
        "features_train, targets_train = train_data.drop(target_fields, axis=1), train_data[target_fields]\n",
        "features_validation, targets_validation = validation_data.drop(target_fields, axis=1), validation_data[target_fields]\n",
        "features_test, targets_test = test_data.drop(target_fields, axis=1), test_data[target_fields]"
      ],
      "execution_count": 0,
      "outputs": []
    },
    {
      "cell_type": "code",
      "metadata": {
        "id": "dFzFb1t_BqB1",
        "colab_type": "code",
        "colab": {}
      },
      "source": [
        "import torch\n",
        "\n",
        "from torch.utils.data import TensorDataset\n",
        "\n",
        "train_set = TensorDataset(torch.tensor(features_train.values).double(),\n",
        "                          torch.tensor(targets_train.values).double())\n",
        "\n",
        "valid_set = TensorDataset(torch.tensor(features_validation.values).double(),\n",
        "                          torch.tensor(targets_validation.values).double())"
      ],
      "execution_count": 0,
      "outputs": []
    },
    {
      "cell_type": "markdown",
      "metadata": {
        "id": "SiIjayNCsbK3",
        "colab_type": "text"
      },
      "source": [
        "## Network architecture\n",
        "I define the necessary parts of the architecture and try them out before handing over to tune."
      ]
    },
    {
      "cell_type": "markdown",
      "metadata": {
        "id": "HQqLWSXY44AG",
        "colab_type": "text"
      },
      "source": [
        "### Hyperparameter\n",
        "\n",
        "defined as map in `hyperparameter`, e.g.:\n",
        "\n",
        " `hyperparameter = {'learning_rate': 0.01, 'hidden_nodes': 25, 'epochs': 4000, 'batch_size': 1}`"
      ]
    },
    {
      "cell_type": "markdown",
      "metadata": {
        "id": "Q9EJaIYW2czS",
        "colab_type": "text"
      },
      "source": [
        "### Model\n",
        "\n",
        "Model has same architecture as in the udacity model, especially:\n",
        "- no bias is added to the layers instead of using automatic bias initialization from pytorch with uniform distribution\n",
        "- tensors are in double tensors\n",
        "- weights initialization is changed to normal distribution in range of 0.0 to input_nodes**-0.5 instead of using automatic weight initialization from pytorch with uniform distribution\n",
        "\n",
        "Size of input node is equal to columns in feature data\n",
        "```\n",
        "input_nodes = features_train.shape[1]\n",
        "\n",
        "bikeSharingModel = BikeSharingModel(input_nodes, hyperparameter['hidden_nodes'])\n",
        "```\n",
        "\n",
        "which results in e.g. (depends on hyperparameter hidden_nodes)\n",
        "\n",
        "```\n",
        "BikeSharingModel(\n",
        "    (fc_1): Linear(in_features=56, out_features=25, bias=True)\n",
        "    (fc_2): Linear(in_features=25, out_features=1, bias=True)\n",
        ")\n",
        "```\n"
      ]
    },
    {
      "cell_type": "code",
      "metadata": {
        "id": "-PT-x4JQl6eM",
        "colab_type": "code",
        "colab": {}
      },
      "source": [
        "from torch import nn\n",
        "\n",
        "class BikeSharingModel(nn.Module):\n",
        "  def __init__(self, input_nodes, hidden_nodes):\n",
        "    super(BikeSharingModel, self).__init__()\n",
        "    self.fc_1 = nn.Linear(input_nodes, hidden_nodes, bias=False).double()\n",
        "    self.fc_2 = nn.Linear(hidden_nodes, 1, bias=False).double()\n",
        " \n",
        "  def forward(self, x):\n",
        "    x = self.fc_1(x)\n",
        "    x = torch.sigmoid(x)\n",
        "    x = self.fc_2(x)\n",
        " \n",
        "    return x\n",
        "\n",
        "def init_weights(m):\n",
        "  if type(m) == nn.Linear:\n",
        "    m.weight.data.normal_(0, m.in_features ** -0.5)\n"
      ],
      "execution_count": 0,
      "outputs": []
    },
    {
      "cell_type": "markdown",
      "metadata": {
        "id": "9fo4exhg2SUE",
        "colab_type": "text"
      },
      "source": [
        "### Loss-function\n",
        "\n",
        "MSE is used as loss function"
      ]
    },
    {
      "cell_type": "code",
      "metadata": {
        "id": "hjB51OjZqJ-Y",
        "colab_type": "code",
        "colab": {}
      },
      "source": [
        "criterion = nn.MSELoss()"
      ],
      "execution_count": 0,
      "outputs": []
    },
    {
      "cell_type": "markdown",
      "metadata": {
        "id": "QuqGV4br2vfA",
        "colab_type": "text"
      },
      "source": [
        "### Optimizer\n",
        "To first get a result which is similar to the udacity project, I choose SGD as optimizer.\n",
        "\n",
        "```\n",
        "optimizer = optim.SGD(bikeSharingModel.parameters(), lr=hyperparameter['learning_rate'])\n",
        "```"
      ]
    },
    {
      "cell_type": "markdown",
      "metadata": {
        "id": "Eg8BvTPN21Zn",
        "colab_type": "text"
      },
      "source": [
        "## Train, validate and test/inference\n",
        "Training is done with a batch size of random training data. Batch size is configured within `hyperparameter['batch_size']`."
      ]
    },
    {
      "cell_type": "code",
      "metadata": {
        "id": "oERur5zlPGeQ",
        "colab_type": "code",
        "outputId": "259ac65c-4bc0-4a41-8bad-87c4b873c89c",
        "colab": {
          "base_uri": "https://localhost:8080/",
          "height": 34
        }
      },
      "source": [
        "# check gpu\n",
        "train_on_gpu = torch.cuda.is_available()\n",
        "if train_on_gpu:\n",
        "  print(\"Train on GPU\")\n",
        "else:\n",
        "  print(\"Train on CPU\")"
      ],
      "execution_count": 9,
      "outputs": [
        {
          "output_type": "stream",
          "text": [
            "Train on GPU\n"
          ],
          "name": "stdout"
        }
      ]
    },
    {
      "cell_type": "code",
      "metadata": {
        "id": "YmcszdFmXhc5",
        "colab_type": "code",
        "colab": {}
      },
      "source": [
        "import matplotlib.pyplot as plt\n",
        "\n",
        "def plot(train_losses, validation_losses):\n",
        "  plt.plot(train_losses, label='Training loss')\n",
        "  plt.plot(validation_losses, label='Validation loss')\n",
        "  plt.legend()\n",
        "  _ = plt.ylim(0, 0.75)"
      ],
      "execution_count": 0,
      "outputs": []
    },
    {
      "cell_type": "code",
      "metadata": {
        "id": "YIw-zHyYBKOU",
        "colab_type": "code",
        "colab": {}
      },
      "source": [
        "import numpy as np\n",
        "import sys\n",
        "from ray import tune\n",
        "from torch import optim\n",
        "from torch.utils.data import DataLoader\n",
        "\n",
        "def train_validate_with_tune_tracking(train_set, valid_set, hyperparameter, with_tune_tracking=False):\n",
        "\n",
        "  train_loader = DataLoader(train_set, shuffle=True, batch_size=hyperparameter['batch_size'])\n",
        "  valid_loader = DataLoader(valid_set, shuffle=True, batch_size=hyperparameter['batch_size'])\n",
        "  input_nodes = iter(train_loader).next()[0].shape[1]\n",
        "  bikeSharingModel = BikeSharingModel(input_nodes, hyperparameter['hidden_nodes'])\n",
        "  bikeSharingModel.apply(init_weights)\n",
        "  optimizer = optim.SGD(bikeSharingModel.parameters(), lr=hyperparameter['learning_rate'])\n",
        "  \n",
        "  if train_on_gpu:\n",
        "    bikeSharingModel.cuda()\n",
        "\n",
        "  train_losses, validation_losses = [], []\n",
        "  for epoch in range(1, hyperparameter['epochs']+1):\n",
        "    \n",
        "    features_batch, targets_batch = iter(train_loader).next() # train with one batch only to get similar results to implementation without pytorch\n",
        "\n",
        "    if train_on_gpu:\n",
        "      features_batch, targets_batch = features_batch.cuda(), targets_batch.cuda()\n",
        "\n",
        "    optimizer.zero_grad()\n",
        "\n",
        "    output = bikeSharingModel(features_batch)\n",
        "\n",
        "    loss = criterion(output, targets_batch)\n",
        "\n",
        "    loss.backward()\n",
        "\n",
        "    optimizer.step()\n",
        "\n",
        "    train_losses.append(loss.item())\n",
        "\n",
        "    # validate\n",
        "    loss_validation = 0.0\n",
        "\n",
        "    with torch.no_grad():\n",
        "      bikeSharingModel.eval()\n",
        "      for features_valid, targets_valid in valid_loader:\n",
        "\n",
        "        if train_on_gpu:\n",
        "          features_valid, targets_valid = features_valid.cuda(), targets_valid.cuda()\n",
        "\n",
        "        output_validation = bikeSharingModel(features_valid)\n",
        "        loss_validation += criterion(output_validation, targets_valid).item()\n",
        "\n",
        "    bikeSharingModel.train()\n",
        "\n",
        "    loss_validation = loss_validation / (len(valid_loader.dataset) / hyperparameter['batch_size'])\n",
        "    validation_losses.append(loss_validation)\n",
        "\n",
        "    # log results\n",
        "    if with_tune_tracking:\n",
        "      tune.track.log(validation_loss_metric=loss_validation)\n",
        "    else:\n",
        "      sys.stdout.write(\"\\rProgress: {:2.1f}% Training loss: {:2.3f} Validation loss: {:2.3f} \".format(100*epoch/(hyperparameter['epochs']+1), loss, loss_validation))\n",
        "      sys.stdout.flush()\n",
        "\n",
        "  if not with_tune_tracking:\n",
        "    plot(train_losses, validation_losses)\n",
        "\n",
        "  return bikeSharingModel"
      ],
      "execution_count": 0,
      "outputs": []
    },
    {
      "cell_type": "code",
      "metadata": {
        "id": "ZuRF9VcCm7oo",
        "colab_type": "code",
        "colab": {}
      },
      "source": [
        "def test(model_to_test, features, targets):\n",
        "\n",
        "  with torch.no_grad():\n",
        "    model_to_test.eval()\n",
        "    if train_on_gpu:\n",
        "      features, targets = features.cuda(), targets.cuda()\n",
        "      \n",
        "    output = model_to_test(features)\n",
        "    test_loss = criterion(output, targets)\n",
        "    model_to_test.train()\n",
        "\n",
        "    print(\"\\nTest loss \", test_loss.item())\n",
        "\n",
        "    fig, ax = plt.subplots(figsize=(8,4))\n",
        "    mean, std = feature_scaling_store['cnt']\n",
        "    ax.plot(output.cpu().numpy()*std + mean, label='Prediction')\n",
        "    ax.plot((targets_test['cnt']*std + mean).values, label='Data')\n",
        "    ax.set_xlim(right=len(output))\n",
        "    ax.legend()\n",
        "    dates = pd.to_datetime(rides_origin.iloc[test_data.index]['dteday'])\n",
        "    dates = dates.apply(lambda d: d.strftime('%b %d'))\n",
        "    ax.set_xticks(np.arange(len(dates))[12::24])\n",
        "    _ = ax.set_xticklabels(dates[12::24], rotation=45)"
      ],
      "execution_count": 0,
      "outputs": []
    },
    {
      "cell_type": "markdown",
      "metadata": {
        "id": "B0JgM0Oq3gX8",
        "colab_type": "text"
      },
      "source": [
        "## Manual hyperparameter tuning"
      ]
    },
    {
      "cell_type": "code",
      "metadata": {
        "id": "jFe-RycNCorU",
        "colab_type": "code",
        "outputId": "0cb4ff18-4a63-4382-c29a-9a888b8cff18",
        "colab": {
          "base_uri": "https://localhost:8080/",
          "height": 577
        }
      },
      "source": [
        "hyperparameter = {'learning_rate': 0.5, 'hidden_nodes': 25, 'epochs': 4000, 'batch_size': 128}\n",
        "\n",
        "trained_model = train_validate_with_tune_tracking(train_set, valid_set, hyperparameter)\n",
        "test(trained_model, torch.tensor(features_test.values).double(), torch.tensor(targets_test.values).double())"
      ],
      "execution_count": 13,
      "outputs": [
        {
          "output_type": "stream",
          "text": [
            "Progress: 100.0% Training loss: 0.556 Validation loss: 1.268 \n",
            "Test loss  0.3994219372001323\n"
          ],
          "name": "stdout"
        },
        {
          "output_type": "display_data",
          "data": {
            "image/png": "[encoded data removed]",
            "text/plain": [
              "<Figure size 432x288 with 1 Axes>"
            ]
          },
          "metadata": {
            "tags": []
          }
        },
        {
          "output_type": "display_data",
          "data": {
            "image/png": "[encoded data removed]",
            "text/plain": [
              "<Figure size 576x288 with 1 Axes>"
            ]
          },
          "metadata": {
            "tags": []
          }
        }
      ]
    },
    {
      "cell_type": "markdown",
      "metadata": {
        "id": "opGrFofZYKLA",
        "colab_type": "text"
      },
      "source": [
        "Result looks not similar to the model build in the udacity project."
      ]
    },
    {
      "cell_type": "code",
      "metadata": {
        "id": "bTAf7blYw9vX",
        "colab_type": "code",
        "colab": {
          "base_uri": "https://localhost:8080/",
          "height": 577
        },
        "outputId": "af95a4a5-60fb-4602-c2ed-a223e4b6a4ec"
      },
      "source": [
        "# try other hyperparameter\n",
        "hyperparameter = {'learning_rate': 0.01, 'hidden_nodes': 25, 'epochs': 4000, 'batch_size': 128}\n",
        "\n",
        "trained_model = train_validate_with_tune_tracking(train_set, valid_set, hyperparameter)\n",
        "test(trained_model, torch.tensor(features_test.values).double(), torch.tensor(targets_test.values).double())"
      ],
      "execution_count": 14,
      "outputs": [
        {
          "output_type": "stream",
          "text": [
            "Progress: 100.0% Training loss: 0.348 Validation loss: 0.596 \n",
            "Test loss  0.2945723896368543\n"
          ],
          "name": "stdout"
        },
        {
          "output_type": "display_data",
          "data": {
            "image/png": "[encoded data removed]",
            "text/plain": [
              "<Figure size 432x288 with 1 Axes>"
            ]
          },
          "metadata": {
            "tags": []
          }
        },
        {
          "output_type": "display_data",
          "data": {
            "image/png": "[encoded data removed]",
            "text/plain": [
              "<Figure size 576x288 with 1 Axes>"
            ]
          },
          "metadata": {
            "tags": []
          }
        }
      ]
    },
    {
      "cell_type": "markdown",
      "metadata": {
        "id": "VCovkuS8Q7Ug",
        "colab_type": "text"
      },
      "source": [
        "## Hyperparamter tuning with tune"
      ]
    },
    {
      "cell_type": "code",
      "metadata": {
        "id": "Xw78tfJsch3_",
        "colab_type": "code",
        "outputId": "e048a978-7a12-402f-ddfc-a60a219d0e2e",
        "colab": {
          "base_uri": "https://localhost:8080/",
          "height": 445
        }
      },
      "source": [
        "!pip uninstall -y albumentations\n",
        "!pip install --upgrade git+git://github.com/hyperopt/hyperopt.git\n",
        "!pip install setproctitle"
      ],
      "execution_count": 15,
      "outputs": [
        {
          "output_type": "stream",
          "text": [
            "\u001b[33mWARNING: Skipping albumentations as it is not installed.\u001b[0m\n",
            "Collecting git+git://github.com/hyperopt/hyperopt.git\n",
            "  Cloning git://github.com/hyperopt/hyperopt.git to /tmp/pip-req-build-pbasocui\n",
            "  Running command git clone -q git://github.com/hyperopt/hyperopt.git /tmp/pip-req-build-pbasocui\n",
            "  Running command git submodule update --init --recursive -q\n",
            "Requirement already satisfied, skipping upgrade: numpy in /usr/local/lib/python3.6/dist-packages (from hyperopt==0.1.2) (1.16.5)\n",
            "Requirement already satisfied, skipping upgrade: scipy in /usr/local/lib/python3.6/dist-packages (from hyperopt==0.1.2) (1.3.1)\n",
            "Requirement already satisfied, skipping upgrade: pymongo in /usr/local/lib/python3.6/dist-packages (from hyperopt==0.1.2) (3.9.0)\n",
            "Requirement already satisfied, skipping upgrade: six in /usr/local/lib/python3.6/dist-packages (from hyperopt==0.1.2) (1.12.0)\n",
            "Requirement already satisfied, skipping upgrade: networkx==2.2 in /usr/local/lib/python3.6/dist-packages (from hyperopt==0.1.2) (2.2)\n",
            "Requirement already satisfied, skipping upgrade: future in /usr/local/lib/python3.6/dist-packages (from hyperopt==0.1.2) (0.16.0)\n",
            "Requirement already satisfied, skipping upgrade: tqdm in /usr/local/lib/python3.6/dist-packages (from hyperopt==0.1.2) (4.28.1)\n",
            "Requirement already satisfied, skipping upgrade: decorator>=4.3.0 in /usr/local/lib/python3.6/dist-packages (from networkx==2.2->hyperopt==0.1.2) (4.4.0)\n",
            "Building wheels for collected packages: hyperopt\n",
            "  Building wheel for hyperopt (setup.py) ... \u001b[?25l\u001b[?25hdone\n",
            "  Created wheel for hyperopt: filename=hyperopt-0.1.2-cp36-none-any.whl size=115643 sha256=97f9436fc29d6ca339b2fdc387dbb6c1d0af25c76e0e09fc768807dab27935ea\n",
            "  Stored in directory: /tmp/pip-ephem-wheel-cache-d3bla4a_/wheels/c9/13/71/0d7783dc440af384cb42aff4d1f3b1ca565115fcda10588c9c\n",
            "Successfully built hyperopt\n",
            "Installing collected packages: hyperopt\n",
            "  Found existing installation: hyperopt 0.1.2\n",
            "    Uninstalling hyperopt-0.1.2:\n",
            "      Successfully uninstalled hyperopt-0.1.2\n",
            "Successfully installed hyperopt-0.1.2\n",
            "Requirement already satisfied: setproctitle in /usr/local/lib/python3.6/dist-packages (1.1.10)\n"
          ],
          "name": "stdout"
        }
      ]
    },
    {
      "cell_type": "code",
      "metadata": {
        "id": "DF08qStlWP0A",
        "colab_type": "code",
        "outputId": "c34fe5f5-375d-4c0f-c119-1ea72db8e7e7",
        "colab": {
          "base_uri": "https://localhost:8080/",
          "height": 1000
        }
      },
      "source": [
        "from ray.tune.suggest.hyperopt import HyperOptSearch\n",
        "from hyperopt import hp, tpe\n",
        "from ray.tune.schedulers import ASHAScheduler\n",
        "\n",
        "def tune_it(config):\n",
        "  train_validate_with_tune_tracking(train_set, valid_set, config, with_tune_tracking=True)\n",
        "\n",
        "search_space = {'learning_rate': hp.loguniform('learning_rate', 0.001, 0.5),\n",
        "                'hidden_nodes': hp.choice('hidden_nodes', [10, 25, 30]),\n",
        "                'batch_size': hp.choice('batch_size', [128, 256, 10, 1])\n",
        "}\n",
        "\n",
        "hyperopt = HyperOptSearch(search_space,\n",
        "                          metric=\"validation_loss_metric\",\n",
        "                          mode=\"min\")\n",
        "\n",
        "tune_result = tune.run(tune_it,\n",
        "                   config={'epochs': 4000},\n",
        "                   local_dir='tune_logs',\n",
        "                   verbose=0,\n",
        "                   resources_per_trial={\"cpu\": 2, \"gpu\": 1},\n",
        "                   search_alg=hyperopt,\n",
        "                   num_samples = 5,\n",
        "                   scheduler = ASHAScheduler(metric='validation_loss_metric', mode='min')\n",
        "                   )"
      ],
      "execution_count": 16,
      "outputs": [
        {
          "output_type": "stream",
          "text": [
            "2019-09-06 21:46:11,608\tINFO resource_spec.py:205 -- Starting Ray with 5.03 GiB memory available for workers and up to 2.53 GiB for objects. You can adjust these settings with ray.remote(memory=<bytes>, object_store_memory=<bytes>).\n",
            "2019-09-06 21:46:12,333\tINFO function_runner.py:254 -- tune.track signature detected.\n"
          ],
          "name": "stderr"
        },
        {
          "output_type": "stream",
          "text": [
            "== Status ==\n",
            "Using AsyncHyperBand: num_stopped=0\n",
            "Bracket: Iter 64.000: None | Iter 16.000: None | Iter 4.000: None | Iter 1.000: None\n",
            "Resources requested: 0/2 CPUs, 0/1 GPUs, 0.0/5.03 GiB heap, 0.0/1.71 GiB objects\n",
            "Memory usage on this node: 2.1/12.7 GiB\n",
            "\n"
          ],
          "name": "stdout"
        },
        {
          "output_type": "stream",
          "text": [
            "2019-09-06 21:46:16,072\tINFO logger.py:206 -- Initializing TFLogger instead of TF2Logger.\n",
            "2019-09-06 21:46:16,125\tWARNING util.py:144 -- The `start_trial` operation took 2.868037462234497 seconds to complete, which may be a performance bottleneck.\n"
          ],
          "name": "stderr"
        },
        {
          "output_type": "stream",
          "text": [
            "== Status ==\n",
            "Using AsyncHyperBand: num_stopped=0\n",
            "Bracket: Iter 64.000: None | Iter 16.000: None | Iter 4.000: None | Iter 1.000: None\n",
            "Resources requested: 2/2 CPUs, 1/1 GPUs, 0.0/5.03 GiB heap, 0.0/1.71 GiB objects\n",
            "Memory usage on this node: 2.2/12.7 GiB\n",
            "Result logdir: /content/tune_logs/tune_it\n",
            "Number of trials: 5 ({'RUNNING': 1, 'PENDING': 4})\n",
            "PENDING trials:\n",
            " - tune_it_2_batch_size=1,epochs=4000,hidden_nodes=25,learning_rate=1.2158:\tPENDING\n",
            " - tune_it_3_batch_size=1,epochs=4000,hidden_nodes=10,learning_rate=1.1396:\tPENDING\n",
            " - tune_it_4_batch_size=1,epochs=4000,hidden_nodes=30,learning_rate=1.5828:\tPENDING\n",
            " - tune_it_5_batch_size=10,epochs=4000,hidden_nodes=25,learning_rate=1.4051:\tPENDING\n",
            "RUNNING trials:\n",
            " - tune_it_1_batch_size=128,epochs=4000,hidden_nodes=10,learning_rate=1.2984:\tRUNNING\n",
            "\n",
            "Result for tune_it_1_batch_size=128,epochs=4000,hidden_nodes=10,learning_rate=1.2984:\n",
            "  date: 2019-09-06_21-46-19\n",
            "  done: false\n",
            "  experiment_id: aa2560393bea487da0f37eb96fc6f78d\n",
            "  hostname: 96d762a9cb60\n",
            "  iterations_since_restore: 1\n",
            "  node_ip: 172.28.0.2\n",
            "  pid: 1420\n",
            "  time_since_restore: 2.5057621002197266\n",
            "  time_this_iter_s: 2.5057621002197266\n",
            "  time_total_s: 2.5057621002197266\n",
            "  timestamp: 1567806379\n",
            "  timesteps_since_restore: 0\n",
            "  training_iteration: 0\n",
            "  trial_id: be9b34a2\n",
            "  validation_loss_metric: 2.1253256851590483\n",
            "  \n",
            "WARNING:tensorflow:From /usr/local/lib/python3.6/dist-packages/ray/tune/logger.py:199: The name tf.Summary is deprecated. Please use tf.compat.v1.Summary instead.\n",
            "\n",
            "== Status ==\n",
            "Using AsyncHyperBand: num_stopped=0\n",
            "Bracket: Iter 64.000: -1.4571947700283272 | Iter 16.000: -1.4982475028293092 | Iter 4.000: -1.4820544205938218 | Iter 1.000: -59.754189176116626\n",
            "Resources requested: 2/2 CPUs, 1/1 GPUs, 0.0/5.03 GiB heap, 0.0/1.71 GiB objects\n",
            "Memory usage on this node: 3.3/12.7 GiB\n",
            "Result logdir: /content/tune_logs/tune_it\n",
            "Number of trials: 5 ({'RUNNING': 1, 'PENDING': 4})\n",
            "PENDING trials:\n",
            " - tune_it_2_batch_size=1,epochs=4000,hidden_nodes=25,learning_rate=1.2158:\tPENDING\n",
            " - tune_it_3_batch_size=1,epochs=4000,hidden_nodes=10,learning_rate=1.1396:\tPENDING\n",
            " - tune_it_4_batch_size=1,epochs=4000,hidden_nodes=30,learning_rate=1.5828:\tPENDING\n",
            " - tune_it_5_batch_size=10,epochs=4000,hidden_nodes=25,learning_rate=1.4051:\tPENDING\n",
            "RUNNING trials:\n",
            " - tune_it_1_batch_size=128,epochs=4000,hidden_nodes=10,learning_rate=1.2984:\tRUNNING, [2 CPUs, 1 GPUs], [pid=1420], 4 s, 68 iter\n",
            "\n"
          ],
          "name": "stdout"
        },
        {
          "output_type": "stream",
          "text": [
            "2019-09-06 21:46:21,920\tINFO logger.py:206 -- Initializing TFLogger instead of TF2Logger.\n"
          ],
          "name": "stderr"
        },
        {
          "output_type": "stream",
          "text": [
            "Result for tune_it_1_batch_size=128,epochs=4000,hidden_nodes=10,learning_rate=1.2984:\n",
            "  date: 2019-09-06_21-46-21\n",
            "  done: true\n",
            "  experiment_id: aa2560393bea487da0f37eb96fc6f78d\n",
            "  hostname: 96d762a9cb60\n",
            "  iterations_since_restore: 101\n",
            "  node_ip: 172.28.0.2\n",
            "  pid: 1420\n",
            "  time_since_restore: 4.82602334022522\n",
            "  time_this_iter_s: 0.022969484329223633\n",
            "  time_total_s: 4.82602334022522\n",
            "  timestamp: 1567806381\n",
            "  timesteps_since_restore: 0\n",
            "  training_iteration: 100\n",
            "  trial_id: be9b34a2\n",
            "  validation_loss_metric: 1.4806038001708441\n",
            "  \n",
            "Result for tune_it_2_batch_size=1,epochs=4000,hidden_nodes=25,learning_rate=1.2158:\n",
            "  date: 2019-09-06_21-46-26\n",
            "  done: false\n",
            "  experiment_id: 16a02ae5f99f493d9a43a307cf046a0b\n",
            "  hostname: 96d762a9cb60\n",
            "  iterations_since_restore: 1\n",
            "  node_ip: 172.28.0.2\n",
            "  pid: 1421\n",
            "  time_since_restore: 3.066690444946289\n",
            "  time_this_iter_s: 3.066690444946289\n",
            "  time_total_s: 3.066690444946289\n",
            "  timestamp: 1567806386\n",
            "  timesteps_since_restore: 0\n",
            "  training_iteration: 0\n",
            "  trial_id: beb2f830\n",
            "  validation_loss_metric: 255.32233148141842\n",
            "  \n"
          ],
          "name": "stdout"
        },
        {
          "output_type": "stream",
          "text": [
            "2019-09-06 21:46:26,691\tINFO logger.py:206 -- Initializing TFLogger instead of TF2Logger.\n"
          ],
          "name": "stderr"
        },
        {
          "output_type": "stream",
          "text": [
            "Result for tune_it_2_batch_size=1,epochs=4000,hidden_nodes=25,learning_rate=1.2158:\n",
            "  date: 2019-09-06_21-46-26\n",
            "  done: true\n",
            "  experiment_id: 16a02ae5f99f493d9a43a307cf046a0b\n",
            "  hostname: 96d762a9cb60\n",
            "  iterations_since_restore: 2\n",
            "  node_ip: 172.28.0.2\n",
            "  pid: 1421\n",
            "  time_since_restore: 3.6301894187927246\n",
            "  time_this_iter_s: 0.5634989738464355\n",
            "  time_total_s: 3.6301894187927246\n",
            "  timestamp: 1567806386\n",
            "  timesteps_since_restore: 0\n",
            "  training_iteration: 1\n",
            "  trial_id: beb2f830\n",
            "  validation_loss_metric: 10373.461739625245\n",
            "  \n",
            "== Status ==\n",
            "Using AsyncHyperBand: num_stopped=2\n",
            "Bracket: Iter 64.000: -1.4571947700283272 | Iter 16.000: -1.4982475028293092 | Iter 4.000: -1.4820544205938218 | Iter 1.000: -2638.181076788399\n",
            "Resources requested: 0/2 CPUs, 0/1 GPUs, 0.0/5.03 GiB heap, 0.0/1.71 GiB objects\n",
            "Memory usage on this node: 3.3/12.7 GiB\n",
            "Result logdir: /content/tune_logs/tune_it\n",
            "Number of trials: 5 ({'TERMINATED': 2, 'PENDING': 3})\n",
            "PENDING trials:\n",
            " - tune_it_3_batch_size=1,epochs=4000,hidden_nodes=10,learning_rate=1.1396:\tPENDING\n",
            " - tune_it_4_batch_size=1,epochs=4000,hidden_nodes=30,learning_rate=1.5828:\tPENDING\n",
            " - tune_it_5_batch_size=10,epochs=4000,hidden_nodes=25,learning_rate=1.4051:\tPENDING\n",
            "TERMINATED trials:\n",
            " - tune_it_1_batch_size=128,epochs=4000,hidden_nodes=10,learning_rate=1.2984:\tTERMINATED, [2 CPUs, 1 GPUs], [pid=1420], 4 s, 100 iter\n",
            " - tune_it_2_batch_size=1,epochs=4000,hidden_nodes=25,learning_rate=1.2158:\tTERMINATED, [2 CPUs, 1 GPUs], [pid=1421], 3 s, 1 iter\n",
            "\n",
            "Result for tune_it_3_batch_size=1,epochs=4000,hidden_nodes=10,learning_rate=1.1396:\n",
            "  date: 2019-09-06_21-46-31\n",
            "  done: false\n",
            "  experiment_id: 2b7d19aca1c848a1bb17c3e34d720af7\n",
            "  hostname: 96d762a9cb60\n",
            "  iterations_since_restore: 1\n",
            "  node_ip: 172.28.0.2\n",
            "  pid: 1467\n",
            "  time_since_restore: 3.032081127166748\n",
            "  time_this_iter_s: 3.032081127166748\n",
            "  time_total_s: 3.032081127166748\n",
            "  timestamp: 1567806391\n",
            "  timesteps_since_restore: 0\n",
            "  training_iteration: 0\n",
            "  trial_id: beca6a1a\n",
            "  validation_loss_metric: 1.7928891114768695\n",
            "  \n",
            "== Status ==\n",
            "Using AsyncHyperBand: num_stopped=2\n",
            "Bracket: Iter 64.000: -1.4571947700283272 | Iter 16.000: -1.4982475028293092 | Iter 4.000: -1.4820544205938218 | Iter 1.000: -30.620721611752938\n",
            "Resources requested: 2/2 CPUs, 1/1 GPUs, 0.0/5.03 GiB heap, 0.0/1.71 GiB objects\n",
            "Memory usage on this node: 3.3/12.7 GiB\n",
            "Result logdir: /content/tune_logs/tune_it\n",
            "Number of trials: 5 ({'TERMINATED': 2, 'RUNNING': 1, 'PENDING': 2})\n",
            "PENDING trials:\n",
            " - tune_it_4_batch_size=1,epochs=4000,hidden_nodes=30,learning_rate=1.5828:\tPENDING\n",
            " - tune_it_5_batch_size=10,epochs=4000,hidden_nodes=25,learning_rate=1.4051:\tPENDING\n",
            "RUNNING trials:\n",
            " - tune_it_3_batch_size=1,epochs=4000,hidden_nodes=10,learning_rate=1.1396:\tRUNNING, [2 CPUs, 1 GPUs], [pid=1467], 3 s, 1 iter\n",
            "TERMINATED trials:\n",
            " - tune_it_1_batch_size=128,epochs=4000,hidden_nodes=10,learning_rate=1.2984:\tTERMINATED, [2 CPUs, 1 GPUs], [pid=1420], 4 s, 100 iter\n",
            " - tune_it_2_batch_size=1,epochs=4000,hidden_nodes=25,learning_rate=1.2158:\tTERMINATED, [2 CPUs, 1 GPUs], [pid=1421], 3 s, 1 iter\n",
            "\n"
          ],
          "name": "stdout"
        },
        {
          "output_type": "stream",
          "text": [
            "2019-09-06 21:46:33,641\tINFO logger.py:206 -- Initializing TFLogger instead of TF2Logger.\n"
          ],
          "name": "stderr"
        },
        {
          "output_type": "stream",
          "text": [
            "Result for tune_it_3_batch_size=1,epochs=4000,hidden_nodes=10,learning_rate=1.1396:\n",
            "  date: 2019-09-06_21-46-33\n",
            "  done: true\n",
            "  experiment_id: 2b7d19aca1c848a1bb17c3e34d720af7\n",
            "  hostname: 96d762a9cb60\n",
            "  iterations_since_restore: 5\n",
            "  node_ip: 172.28.0.2\n",
            "  pid: 1467\n",
            "  time_since_restore: 5.250328779220581\n",
            "  time_this_iter_s: 0.546001672744751\n",
            "  time_total_s: 5.250328779220581\n",
            "  timestamp: 1567806393\n",
            "  timesteps_since_restore: 0\n",
            "  training_iteration: 4\n",
            "  trial_id: beca6a1a\n",
            "  validation_loss_metric: 9.774656994653025\n",
            "  \n",
            "Result for tune_it_4_batch_size=1,epochs=4000,hidden_nodes=30,learning_rate=1.5828:\n",
            "  date: 2019-09-06_21-46-38\n",
            "  done: false\n",
            "  experiment_id: 899ca3e1faaf4a6db9e643814ef22519\n",
            "  hostname: 96d762a9cb60\n",
            "  iterations_since_restore: 1\n",
            "  node_ip: 172.28.0.2\n",
            "  pid: 1480\n",
            "  time_since_restore: 3.0397653579711914\n",
            "  time_this_iter_s: 3.0397653579711914\n",
            "  time_total_s: 3.0397653579711914\n",
            "  timestamp: 1567806398\n",
            "  timesteps_since_restore: 0\n",
            "  training_iteration: 0\n",
            "  trial_id: bedb9718\n",
            "  validation_loss_metric: 340.1813114428669\n",
            "  \n",
            "== Status ==\n",
            "Using AsyncHyperBand: num_stopped=3\n",
            "Bracket: Iter 64.000: -1.4571947700283272 | Iter 16.000: -1.4982475028293092 | Iter 4.000: -3.5552050641086224 | Iter 1.000: -30.620721611752938\n",
            "Resources requested: 2/2 CPUs, 1/1 GPUs, 0.0/5.03 GiB heap, 0.0/1.71 GiB objects\n",
            "Memory usage on this node: 3.3/12.7 GiB\n",
            "Result logdir: /content/tune_logs/tune_it\n",
            "Number of trials: 5 ({'TERMINATED': 3, 'RUNNING': 1, 'PENDING': 1})\n",
            "PENDING trials:\n",
            " - tune_it_5_batch_size=10,epochs=4000,hidden_nodes=25,learning_rate=1.4051:\tPENDING\n",
            "RUNNING trials:\n",
            " - tune_it_4_batch_size=1,epochs=4000,hidden_nodes=30,learning_rate=1.5828:\tRUNNING, [2 CPUs, 1 GPUs], [pid=1480], 3 s, 0 iter\n",
            "TERMINATED trials:\n",
            " - tune_it_1_batch_size=128,epochs=4000,hidden_nodes=10,learning_rate=1.2984:\tTERMINATED, [2 CPUs, 1 GPUs], [pid=1420], 4 s, 100 iter\n",
            " - tune_it_2_batch_size=1,epochs=4000,hidden_nodes=25,learning_rate=1.2158:\tTERMINATED, [2 CPUs, 1 GPUs], [pid=1421], 3 s, 1 iter\n",
            " - tune_it_3_batch_size=1,epochs=4000,hidden_nodes=10,learning_rate=1.1396:\tTERMINATED, [2 CPUs, 1 GPUs], [pid=1467], 5 s, 4 iter\n",
            "\n"
          ],
          "name": "stdout"
        },
        {
          "output_type": "stream",
          "text": [
            "2019-09-06 21:46:39,018\tINFO logger.py:206 -- Initializing TFLogger instead of TF2Logger.\n"
          ],
          "name": "stderr"
        },
        {
          "output_type": "stream",
          "text": [
            "Result for tune_it_4_batch_size=1,epochs=4000,hidden_nodes=30,learning_rate=1.5828:\n",
            "  date: 2019-09-06_21-46-38\n",
            "  done: true\n",
            "  experiment_id: 899ca3e1faaf4a6db9e643814ef22519\n",
            "  hostname: 96d762a9cb60\n",
            "  iterations_since_restore: 2\n",
            "  node_ip: 172.28.0.2\n",
            "  pid: 1480\n",
            "  time_since_restore: 3.6087534427642822\n",
            "  time_this_iter_s: 0.5689880847930908\n",
            "  time_total_s: 3.6087534427642822\n",
            "  timestamp: 1567806398\n",
            "  timesteps_since_restore: 0\n",
            "  training_iteration: 1\n",
            "  trial_id: bedb9718\n",
            "  validation_loss_metric: 264984.99123194016\n",
            "  \n"
          ],
          "name": "stdout"
        },
        {
          "output_type": "stream",
          "text": [
            "2019-09-06 21:46:43,306\tINFO tune.py:269 -- Returning an analysis object by default. You can call `analysis.trials` to retrieve a list of trials. This message will be removed in future versions of Tune.\n"
          ],
          "name": "stderr"
        },
        {
          "output_type": "stream",
          "text": [
            "Result for tune_it_5_batch_size=10,epochs=4000,hidden_nodes=25,learning_rate=1.4051:\n",
            "  date: 2019-09-06_21-46-43\n",
            "  done: false\n",
            "  experiment_id: f3b21bf662854dfb9560a2f53be654bb\n",
            "  hostname: 96d762a9cb60\n",
            "  iterations_since_restore: 1\n",
            "  node_ip: 172.28.0.2\n",
            "  pid: 1496\n",
            "  time_since_restore: 2.5346381664276123\n",
            "  time_this_iter_s: 2.5346381664276123\n",
            "  time_total_s: 2.5346381664276123\n",
            "  timestamp: 1567806403\n",
            "  timesteps_since_restore: 0\n",
            "  training_iteration: 0\n",
            "  trial_id: bef19d56\n",
            "  validation_loss_metric: 65.34771900233268\n",
            "  \n",
            "Result for tune_it_5_batch_size=10,epochs=4000,hidden_nodes=25,learning_rate=1.4051:\n",
            "  date: 2019-09-06_21-46-43\n",
            "  done: true\n",
            "  experiment_id: f3b21bf662854dfb9560a2f53be654bb\n",
            "  hostname: 96d762a9cb60\n",
            "  iterations_since_restore: 2\n",
            "  node_ip: 172.28.0.2\n",
            "  pid: 1496\n",
            "  time_since_restore: 2.611325740814209\n",
            "  time_this_iter_s: 0.07668757438659668\n",
            "  time_total_s: 2.611325740814209\n",
            "  timestamp: 1567806403\n",
            "  timesteps_since_restore: 0\n",
            "  training_iteration: 1\n",
            "  trial_id: bef19d56\n",
            "  validation_loss_metric: 157.9683334490625\n",
            "  \n",
            "== Status ==\n",
            "Using AsyncHyperBand: num_stopped=5\n",
            "Bracket: Iter 64.000: -1.4571947700283272 | Iter 16.000: -1.4982475028293092 | Iter 4.000: -3.5552050641086224 | Iter 1.000: -59.754189176116626\n",
            "Resources requested: 0/2 CPUs, 0/1 GPUs, 0.0/5.03 GiB heap, 0.0/1.71 GiB objects\n",
            "Memory usage on this node: 3.3/12.7 GiB\n",
            "Result logdir: /content/tune_logs/tune_it\n",
            "Number of trials: 5 ({'TERMINATED': 5})\n",
            "TERMINATED trials:\n",
            " - tune_it_1_batch_size=128,epochs=4000,hidden_nodes=10,learning_rate=1.2984:\tTERMINATED, [2 CPUs, 1 GPUs], [pid=1420], 4 s, 100 iter\n",
            " - tune_it_2_batch_size=1,epochs=4000,hidden_nodes=25,learning_rate=1.2158:\tTERMINATED, [2 CPUs, 1 GPUs], [pid=1421], 3 s, 1 iter\n",
            " - tune_it_3_batch_size=1,epochs=4000,hidden_nodes=10,learning_rate=1.1396:\tTERMINATED, [2 CPUs, 1 GPUs], [pid=1467], 5 s, 4 iter\n",
            " - tune_it_4_batch_size=1,epochs=4000,hidden_nodes=30,learning_rate=1.5828:\tTERMINATED, [2 CPUs, 1 GPUs], [pid=1480], 3 s, 1 iter\n",
            " - tune_it_5_batch_size=10,epochs=4000,hidden_nodes=25,learning_rate=1.4051:\tTERMINATED, [2 CPUs, 1 GPUs], [pid=1496], 2 s, 1 iter\n",
            "\n"
          ],
          "name": "stdout"
        }
      ]
    },
    {
      "cell_type": "markdown",
      "metadata": {
        "id": "CeWOTgTXj4zn",
        "colab_type": "text"
      },
      "source": [
        "## Tune result"
      ]
    },
    {
      "cell_type": "code",
      "metadata": {
        "id": "Tr2qnmJgYFge",
        "colab_type": "code",
        "outputId": "60d10d74-aaf6-4a1b-fd88-a00b886437f4",
        "colab": {
          "base_uri": "https://localhost:8080/",
          "height": 207
        }
      },
      "source": [
        "print(\"Best config: \", tune_result.get_best_config(metric='validation_loss_metric'))\n",
        "report = tune_result.dataframe()\n",
        "print(report)\n",
        "trials = tune_result.trials\n",
        "print(trials)\n",
        "\n"
      ],
      "execution_count": 29,
      "outputs": [
        {
          "output_type": "stream",
          "text": [
            "Best config:  {'batch_size': 1, 'epochs': 4000, 'hidden_nodes': 30, 'learning_rate': 1.5828365900053538}\n",
            "   config/batch_size  config/epochs  ...  trial_id  validation_loss_metric\n",
            "0                128           4000  ...  be9b34a2                1.480604\n",
            "1                  1           4000  ...  beb2f830            10373.461740\n",
            "2                  1           4000  ...  beca6a1a                9.774657\n",
            "3                  1           4000  ...  bedb9718           264984.991232\n",
            "4                 10           4000  ...  bef19d56              157.968333\n",
            "\n",
            "[5 rows x 22 columns]\n",
            "[tune_it_1_batch_size=128,epochs=4000,hidden_nodes=10,learning_rate=1.2984, tune_it_2_batch_size=1,epochs=4000,hidden_nodes=25,learning_rate=1.2158, tune_it_3_batch_size=1,epochs=4000,hidden_nodes=10,learning_rate=1.1396, tune_it_4_batch_size=1,epochs=4000,hidden_nodes=30,learning_rate=1.5828, tune_it_5_batch_size=10,epochs=4000,hidden_nodes=25,learning_rate=1.4051]\n"
          ],
          "name": "stdout"
        }
      ]
    },
    {
      "cell_type": "code",
      "metadata": {
        "id": "7K04-YyjXToq",
        "colab_type": "code",
        "colab": {
          "base_uri": "https://localhost:8080/",
          "height": 17
        },
        "outputId": "b09792e8-52cb-4cf7-9ce3-b5f51dd32eeb"
      },
      "source": [
        "%load_ext tensorboard\n",
        "%tensorboard --logdir tune_logs/tune_it"
      ],
      "execution_count": 18,
      "outputs": [
        {
          "output_type": "display_data",
          "data": {
            "text/html": [
              "\n",
              "    <div id=\"root\"></div>\n",
              "    <script>\n",
              "      (function() {\n",
              "        window.TENSORBOARD_ENV = window.TENSORBOARD_ENV || {};\n",
              "        window.TENSORBOARD_ENV[\"IN_COLAB\"] = true;\n",
              "        document.querySelector(\"base\").href = \"https://localhost:6006\";\n",
              "        function fixUpTensorboard(root) {\n",
              "          const tftb = root.querySelector(\"tf-tensorboard\");\n",
              "          // Disable the fragment manipulation behavior in Colab. Not\n",
              "          // only is the behavior not useful (as the iframe's location\n",
              "          // is not visible to the user), it causes TensorBoard's usage\n",
              "          // of `window.replace` to navigate away from the page and to\n",
              "          // the `localhost:<port>` URL specified by the base URI, which\n",
              "          // in turn causes the frame to (likely) crash.\n",
              "          tftb.removeAttribute(\"use-hash\");\n",
              "        }\n",
              "        function executeAllScripts(root) {\n",
              "          // When `script` elements are inserted into the DOM by\n",
              "          // assigning to an element's `innerHTML`, the scripts are not\n",
              "          // executed. Thus, we manually re-insert these scripts so that\n",
              "          // TensorBoard can initialize itself.\n",
              "          for (const script of root.querySelectorAll(\"script\")) {\n",
              "            const newScript = document.createElement(\"script\");\n",
              "            newScript.type = script.type;\n",
              "            newScript.textContent = script.textContent;\n",
              "            root.appendChild(newScript);\n",
              "            script.remove();\n",
              "          }\n",
              "        }\n",
              "        function setHeight(root, height) {\n",
              "          // We set the height dynamically after the TensorBoard UI has\n",
              "          // been initialized. This avoids an intermediate state in\n",
              "          // which the container plus the UI become taller than the\n",
              "          // final width and cause the Colab output frame to be\n",
              "          // permanently resized, eventually leading to an empty\n",
              "          // vertical gap below the TensorBoard UI. It's not clear\n",
              "          // exactly what causes this problematic intermediate state,\n",
              "          // but setting the height late seems to fix it.\n",
              "          root.style.height = `${height}px`;\n",
              "        }\n",
              "        const root = document.getElementById(\"root\");\n",
              "        fetch(\".\")\n",
              "          .then((x) => x.text())\n",
              "          .then((html) => void (root.innerHTML = html))\n",
              "          .then(() => fixUpTensorboard(root))\n",
              "          .then(() => executeAllScripts(root))\n",
              "          .then(() => setHeight(root, 800));\n",
              "      })();\n",
              "    </script>\n",
              "  "
            ],
            "text/plain": [
              "<IPython.core.display.HTML object>"
            ]
          },
          "metadata": {
            "tags": []
          }
        }
      ]
    },
    {
      "cell_type": "markdown",
      "metadata": {
        "id": "z9-dmXi33EE0",
        "colab_type": "text"
      },
      "source": [
        "## Further steps/TODO"
      ]
    },
    {
      "cell_type": "markdown",
      "metadata": {
        "id": "J7WTb-tW2HQ-",
        "colab_type": "text"
      },
      "source": [
        "- test with adding field *workingday*\n",
        "- test with making field *holiday* categorical\n",
        "- test with delete field *year*\n",
        "- test with adding field *atemp*\n",
        "\n",
        "\n",
        "- check standard deviation\n",
        "- drop header in data\n",
        "- add dropout\n",
        "\n",
        "\n",
        "- losses of this model differ from losses of original implementation with same hyperparameter\n",
        "\n",
        "\n",
        "- change tune from grid search to bayesian optimization and write comments\n",
        "- try different bag sizes for test/validation/train sets\n",
        "- build fcn best practice by Andrej Karpathy\n",
        "\n",
        "- save best model\n",
        "- access best metric value from tune result\n",
        "- use tpe in hyperopt\n",
        "\n",
        "- hand different optimizer and model over to tune (in tune docs: models should be handed over as state_dict: https://ray.readthedocs.io/en/latest/using-ray-with-pytorch.html)\n",
        "\n",
        "- log multiple metrices at once"
      ]
    },
    {
      "cell_type": "code",
      "metadata": {
        "id": "SNDTBEwcwisu",
        "colab_type": "code",
        "colab": {}
      },
      "source": [
        ""
      ],
      "execution_count": 0,
      "outputs": []
    }
  ]
}